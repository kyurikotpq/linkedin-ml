{
 "cells": [
  {
   "cell_type": "markdown",
   "metadata": {},
   "source": [
    "# 1. Motivation and Introduction\n",
    "\n",
    "Social media content with a \"personal angle\"—that is, containing elements of personal vulnerabil- ity and/or storytelling—often garners more engagement due to their authentic, authoritative, and attention-grabbing nature. To aid my personal branding endeavors, I want to build a classifier that:\n",
    "- Uncovers the patterns that distinguishes a personal post from a non-personal one\n",
    "- Effectively uses those patterns to classify a piece of text (e.g. my LinkedIn post) as personal/non-personal, so that I can tweak it for higher engagement\n",
    "\n",
    "To obtain the data, I conveniently sampled 28 LinkedIn mid-sized creators (3,000 - 20,000 followers) from my LinkedIn feed. Then, I wrote a custom Python script to visit each profile, randomly sample 15 posts without replacement, and scrape each post’s text, engagement count, and comment count.\n",
    "\n",
    "This should yield 28 × 15 = 420 posts, but slight formatting differences on the LinkedIn website caused some posts to be scraped multiple times. After removing these duplicates, 416 unique posts remained, which the scraper saved into a CSV file.\n",
    "\n",
    "Uploading this CSV file to Google Sheets, I manually labelled each of the 416 posts as \"personal\" or \"non-personal\", depending on whether the post contained a \"personal angle\" as defined above. I then exported this labelled dataset to CSV for the classifier to use.\n"
   ]
  },
  {
   "cell_type": "markdown",
   "metadata": {},
   "source": [
    "# 2. Data Import and Conversion\n",
    "\n",
    "To begin working on the dataset, we will import the data from the CSV using the pandas library:"
   ]
  },
  {
   "cell_type": "code",
   "execution_count": 1,
   "metadata": {},
   "outputs": [
    {
     "data": {
      "text/plain": [
       "(                                             content  engagement  comments  \\\n",
       " 0  Sending an email newsletter is a lot like dati...          13         5   \n",
       " 1  It is a great week to connect with people who ...          18         0   \n",
       " 2  Here's an effective strategy for designing you...         282         5   \n",
       " 3  There are 4 elements of selling and scaling an...           4         1   \n",
       " 4  One of the biggest changes I’ve made this year...          56         2   \n",
       " \n",
       "    personal_exp  \n",
       " 0         False  \n",
       " 1         False  \n",
       " 2         False  \n",
       " 3         False  \n",
       " 4          True  ,\n",
       " (416, 4))"
      ]
     },
     "execution_count": 1,
     "metadata": {},
     "output_type": "execute_result"
    }
   ],
   "source": [
    "# Import necessary libraries\n",
    "import pandas as pd\n",
    "\n",
    "# Import the data into a pandas DataFrame\n",
    "df = pd.read_csv(\"./labelled_posts.csv\")\n",
    "df.head(), df.shape"
   ]
  },
  {
   "cell_type": "markdown",
   "metadata": {},
   "source": [
    "# 3. Basic Data Cleaning and Pre-Processing\n",
    "\n",
    "Since the dataset is relatively clean, only two pre-processing tasks remain:\n",
    "\n",
    "**1. Removing Reposts.** LinkedIn users can share others’ posts as their own, also known as a \"repost\". While the original post might have a personal angle, it is not the reposter’s personal angle, so I will remove reposts. Engagement and comment counts are always zero for reposts, so I can remove all posts with this criteria— leaving us with 381 posts.\n",
    "\n",
    "**2. Counting Words.** Most people assume that personal posts use more words, because these posts—especially those with storytelling attributes—need sufficient contextual and character devel- opment to do well. To check this assumption, I will counts the number of words in the column content, save that in a new column, word_count, and visualize its quartiles (Figure 1). The range of word counts for both post types are similar, so word count is not a very reliable feature to distinguish between the post types.\n",
    "\n",
    "I will not be doing text pre-processing now as my text vectorizer will help me with it later. Addi- tionally, some common text pre-processing techniques like stemming (reducing words to their word stems) and removing stopwords (commonly occuring words) can dilute the contextual features of a personal post.\n",
    "\n",
    "For example, pre-processing **\"I gained 10,000 subscribers in 2 months. Here’s how I did it:\" could give \"Gained 10,000 subscribers 2 months. Here’s did:\"** which lacks context on who gained those subscribers."
   ]
  },
  {
   "cell_type": "code",
   "execution_count": 2,
   "metadata": {},
   "outputs": [
    {
     "data": {
      "text/plain": [
       "(381, 5)"
      ]
     },
     "execution_count": 2,
     "metadata": {},
     "output_type": "execute_result"
    }
   ],
   "source": [
    "# Drop reposts (i.e. engagement == 0 && comments == 0)\n",
    "no_reposts_df = df[(df['engagement'] != 0) | (df['comments'] != 0)].copy()\n",
    "\n",
    "# Get word counts (useful for tokenization later)\n",
    "no_reposts_df[\"word_count\"] = no_reposts_df[\"content\"].str.split().str.len()\n",
    "\n",
    "# 381 posts, 4 columns\n",
    "no_reposts_df.shape"
   ]
  },
  {
   "cell_type": "code",
   "execution_count": 3,
   "metadata": {},
   "outputs": [
    {
     "name": "stderr",
     "output_type": "stream",
     "text": [
      "/Users/kyurikotpq/miniconda3/envs/ML_env/lib/python3.11/site-packages/seaborn/_oldcore.py:1498: FutureWarning: is_categorical_dtype is deprecated and will be removed in a future version. Use isinstance(dtype, CategoricalDtype) instead\n",
      "  if pd.api.types.is_categorical_dtype(vector):\n",
      "/Users/kyurikotpq/miniconda3/envs/ML_env/lib/python3.11/site-packages/seaborn/_oldcore.py:1498: FutureWarning: is_categorical_dtype is deprecated and will be removed in a future version. Use isinstance(dtype, CategoricalDtype) instead\n",
      "  if pd.api.types.is_categorical_dtype(vector):\n",
      "/Users/kyurikotpq/miniconda3/envs/ML_env/lib/python3.11/site-packages/seaborn/_oldcore.py:1498: FutureWarning: is_categorical_dtype is deprecated and will be removed in a future version. Use isinstance(dtype, CategoricalDtype) instead\n",
      "  if pd.api.types.is_categorical_dtype(vector):\n"
     ]
    },
    {
     "data": {
      "image/png": "[encoded data removed]",
      "text/plain": [
       "<Figure size 640x480 with 1 Axes>"
      ]
     },
     "metadata": {},
     "output_type": "display_data"
    }
   ],
   "source": [
    "import matplotlib.pyplot as plt\n",
    "import seaborn as sns\n",
    "\n",
    "# Plot the word count quartiles for each post type\n",
    "sns.boxplot(data=no_reposts_df, x=\"personal_exp\",\n",
    "            y=\"word_count\", palette=\"husl\")\n",
    "\n",
    "# #dataviz best practices\n",
    "plt.xlabel(\"Personal Post?\")\n",
    "plt.ylabel(\"Word Count\")\n",
    "plt.title(\"Word count quartiles for each post type\")\n",
    "plt.show()\n"
   ]
  },
  {
   "cell_type": "markdown",
   "metadata": {},
   "source": [
    "**Figure 1.** A boxplot showing the word count quartiles for each post type. While the Q1, median, and Q3 word count of personal posts are indeed higher than those of non-personal posts, the range of word counts for both post types are similar. This similarity undermines the usefulness of word counts as a distinguishing feature between the post types.\n",
    "\n",
    "---\n",
    "\n",
    "# 4. Train-Test Split\n",
    "\n",
    "As aforementioned, I will perform **binary classification** (\"personal\" or \"non-personal\") on the data. Let’s begin by splitting the cleaned data into training and test data sets:\n"
   ]
  },
  {
   "cell_type": "code",
   "execution_count": 4,
   "metadata": {},
   "outputs": [],
   "source": [
    "from sklearn.model_selection import train_test_split\n",
    "\n",
    "# Separate content from \"personal\" labels\n",
    "inputs, targets = no_reposts_df[\"content\"], no_reposts_df[\"personal_exp\"]\n",
    "\n",
    "# Split into training and test datasets\n",
    "X_train, X_test, y_train, y_test = train_test_split(inputs, targets, test_size=0.2, random_state=21)"
   ]
  },
  {
   "cell_type": "markdown",
   "metadata": {},
   "source": [
    "# 5. Model Selection\n",
    "\n",
    "**1. Choice of Text Representation.** To perform text classification, I need to represent the text numerically so that the machine can understand it. Two common approaches include **word embeddings** and **frequency-based techniques**. Word embeddings consider the words’ meanings before projecting them in multi-dimensional space; frequency-based techniques count the number of occurrences and, in techniques like term frequency–inverse document frequency (TF-IDF), assign weights (importance) to words based on their frequency in the document.\n",
    "As such, in a frequency-based approach, similar sentences like *\"The quick dog jumps over the lazy brown fox\"* and *\"The quick brown fox jumps over the lazy dog\"* will have the same numeric rep- resentation, even though they are semantically different. This is not desirable for the classifier as the differences between personal and non-personal posts are often semantic, not frequency-based. Thus, I will use word embeddings to represent the textual data.\n",
    "\n",
    "**2. Choice of Model.** Semantics are borne from complex, *nonlinear* relationships among words, which simpler classification models like logistic regression or Naive Bayes might struggle to model due to their use of linear decision boundaries. Neural networks might be better at modelling such non-linear relationships, thanks to their multilayered architecture and activation functions. Their structure also enables them to perform better at handling high-dimensional and unstructured data, which are inherent characteristics that our textual data has. Thus, given the importance of semantics for our classification, I will use a **neural network** model for the classifier.\n",
    "\n",
    "**3. Mathematical Underpinnings.**\n",
    "\n",
    "![Neural Network Diagram](nnetwork-diagram.png)\n",
    "\n",
    "**Figure 2.** A diagram of the proposed neural network architecture. There is 1 Embedding layer to turn our word embeddings into dense vectors of a (tunable) fixed size; 1 Flatten layer to flatten these vectors into a 1D array, so that they can be fed to subsequent layers; 1 - 3 Dense layer(s), each with a tunable number of units, as hidden layers; 1 Dense layer with only one unit as the output layer. Since we are doing binary classification, this single unit uses the sigmoid activation function.\n",
    "\n",
    "**3.1. Activation functions at the unit level.**\n",
    "For the units in our hidden layers, we will use the **ReLU** activation function:\n",
    "$$ ReLU(x) = max(0, x) $$\n",
    "\n",
    "In other words, if the ReLU function receives a negative input $x$—the weighted sum of the previous layer (+ any bias)—it will return 0. Otherwise, it will return $x$.\n",
    "\n",
    "Hence, since the gradient of ReLU is either 1 or 0 depending on the value of $x$, our gradient will either get backpropagated or not. \n",
    "1. **Main Advantage:** This helps us our model converge faster while avoiding the \"vanishing gradient\" problem found in other activation functions like sigmoid and tanh: The gradient decreases prematurely as the number of layers increases, so it cannot be effectively backpropagated to help the model adjust its weights.\n",
    "2. **Main Disadvantage:** The all-or-nothing nature of the max() function means that a neuron can get \"trapped\" in the negative side, always giving an output of 0. In this scenario, the neuron becomes inactive and useless in the network, while continuing to consume memory and computational resources.\n",
    "\n",
    "Despite the mentioned disadvantage, the simplicity of the ReLU function makes it more computationally efficient than other types of activation functions. Hence, we will use it for our hidden layers.\n",
    "\n",
    "Finally, we will use the **sigmoid** activation function for the sole unit in the output layer. The sigmoid function maps $x$, the weighted sum of the last hidden layer (+ any bias), to a value in the range [0, 1]. This constriction suits the binary nature of our classification problem well. \n",
    "$$ S(x) = \\frac{1}{1 + e^{-x}} $$\n",
    "\n",
    "We can easily interpret the output of the sigmoid activation function as *the probability of an input belonging to the positive class*—in our case, the value of $P(personal)$.\n",
    "\n",
    "**3.2. Backpropagation using Stochastic Gradient Descent (SGD).**\n",
    "\n",
    "Backpropagation using SGD is a technique to iteratively adjust the weights of a neural network. The process can be broken down as follows:\n",
    "1. Begin with a (randomized) set of weights and biases\n",
    "2. Obtain predicted outputs during forward propagation\n",
    "3. Calculate the average error (loss) between the predicted outputs and the actual labels using binary cross-entropy, L = $-\\frac{1}{N} \\sum_{i = 1}^{N} y_i \\cdot log(p_i) + (1 - y_i) \\cdot log(1 - p_i)$.\n",
    "    1. $y_i$ (and $1 - y_i$) is the positive (and negative) label, respectively. In this case, the positive class is the \"personal\" label and has a value of 1, while the negative class has a value of 0.\n",
    "    2. $log(p_i)$ (and $log(1 - p_i)$) is the predicted probability of the data point $i$ belonging to the positive (and negative) class \n",
    "    3. Thus, $y_i \\cdot log(p_i) + (1 - y_i) \\cdot log(1 - p_i)$ will evaluate to 0 for a 100\\% accurate classification of one data point.\n",
    "    4. Repeat the loss calculation for all $N$ data points and take the average.\n",
    "\n",
    "    Hence, we use BCE instead of other loss functions like mean squared error because BCE's logarithmic nature better  encourages the model to output higher probabilities for the positive class (personal) and lower probabilities for the negative class (non-personal).\n",
    "\n",
    "4. Backpropagate this loss. In doing so, we will now have a set of losses—one for each weight in the current layer.\n",
    "\n",
    "    1. Applying SGD, we will randomly divide the set of losses into batches. For each batch, we will compute the gradient of each loss with respect to its weights by applying the chain rule of calculus: $gradient, \\frac{\\partial L}{\\partial w} =  \\frac{\\partial L}{\\partial y} \\cdot \\frac{\\partial y}{\\partial z} \\cdot \\frac{\\partial z}{\\partial w}$\n",
    "    \n",
    "    -  $\\frac{\\partial L}{\\partial y}$: The derivative of the loss, $L$, with respect to the output $y$\n",
    "    -  $\\frac{\\partial y}{\\partial z}$: The derivative of the output $y$, with respect to the weighted sum of the inputs, $z = \\sum_{i} w_ix_i$, for all connected weights\n",
    "    -  $\\frac{\\partial z}{\\partial w}$: The derivative of the the weighted sum of the inputs with respect to the weights, $w$\n",
    "    \n",
    "    2. Use the gradients to update the weights and biases with a certain learning rate (in this case, an arbitrary 0.1): \n",
    "    $$\n",
    "        w_{new} = w_{old} - 0.1 \\cdot gradient \\\\\n",
    "        bias_{new} = bias_{old} - 0.1 \\cdot gradient\n",
    "    $$\n",
    "\n",
    "These interactions at and between the various levels give rise to the classification capabilities of our neural network.\n",
    "\n",
    "**4. Choice of ROC-AUC as Metric.** Accuracy measures the proportion of correctly classified instances. However, if there are significantly more samples of one class than the other, the model would not be good at classifying samples from the smaller class. Since there is a possibility of such class imbalances in future datasets—most posts are non-personal—accuracy might not be a very suitable metric.\n",
    "\n",
    "Instead, I will use the ROC-AUC score. This score quantifies the model’s ability to discriminate between the two classes across different probability thresholds, regardless of class imbalances or not. Optimizing the ROC-AUC score, including during hyperparameter tuning, would thus help me build a more generalizable model.\n",
    "\n",
    "---\n",
    "\n",
    "Since I would like to tune:\n",
    "- The output dimension of the embedding layer\n",
    "- The number of hidden layers\n",
    "- The number of units in each hidden layer\n",
    "\n",
    "I will be creating a \"hypermodel\" so that Keras Tuner can search for the most optimal hyperparameters. The actual model will be created later in Section 7."
   ]
  },
  {
   "cell_type": "code",
   "execution_count": 5,
   "metadata": {},
   "outputs": [],
   "source": [
    "from tensorflow.keras import layers, Sequential, optimizers, metrics\n",
    "\n",
    "# @TODO comment\n",
    "MAX_FEATURES = no_reposts_df[\"word_count\"].max()\n",
    "SEQUENCE_LENGTH = int(0.01 * MAX_FEATURES)\n",
    "MAX_EPOCHS = 50\n",
    "\n",
    "\n",
    "def create_hypermodel(hp):\n",
    "    # Create a Sequential model for a neural network\n",
    "    model = Sequential()\n",
    "\n",
    "    # Define a hyperparameter search space using Keras Tuner\n",
    "    HP_OUTPUT_DIM = hp.Int('output_dim', min_value=16,\n",
    "                           max_value=80, step=16)\n",
    "\n",
    "    # Add an Embedding layer with a dynamic output dimension based on the hyperparameter\n",
    "    model.add(layers.Embedding(MAX_FEATURES + 1,\n",
    "              HP_OUTPUT_DIM, input_length=SEQUENCE_LENGTH))\n",
    "\n",
    "    # Add a Flatten layer to convert the embedded features into a 1D array\n",
    "    model.add(layers.Flatten())\n",
    "\n",
    "    # Add multiple dense layers with hyperparameter tuning\n",
    "    for i in range(hp.Int(\"num_layers\", 1, 3)):\n",
    "        model.add(\n",
    "            layers.Dense(\n",
    "                # Tune number of units separately.\n",
    "                units=hp.Int(f\"units_{i}\", min_value=16,\n",
    "                             max_value=128, step=16),\n",
    "                activation=\"relu\"\n",
    "            )\n",
    "        )\n",
    "\n",
    "    # Add a final Dense layer with a single unit and\n",
    "    # sigmoid activation for binary classification\n",
    "    # (personal/not personal)\n",
    "    model.add(layers.Dense(1, activation='sigmoid'))\n",
    "\n",
    "    # Compile the model with:\n",
    "    # - binary cross-entropy loss\n",
    "    # - SGD optimizer\n",
    "    # - accuracy metric\n",
    "    model.compile(loss=\"binary_crossentropy\",\n",
    "                  optimizer=optimizers.legacy.SGD(\n",
    "                      learning_rate=0.1),\n",
    "                  metrics=[metrics.AUC(name=\"auc\")])\n",
    "\n",
    "    return model\n"
   ]
  },
  {
   "cell_type": "markdown",
   "metadata": {},
   "source": [
    "# 6. Model Training\n",
    "\n",
    "In this section, I performed hyperparameter tuning with Bayesian optimization. The models with different hyperparameters are trained and evaluated across multiple folds, a technique known as K-Fold Cross-Validation.\n",
    "\n",
    "**Why BayesianOptimization?** Instead of trying a random combination of hyperparameters each time—a common problem in the RandomSearch and Hyperband algorithms—the tuner chooses the first few combinations randomly, then uses the performance from these hyperparameters to *inform* its subsequent choices of hyperparameters. Hence, BayesianOptimization is potentially more efficient and fruitful in its search, thanks to its consideration of the historical performance of attempted hyperparameters to choose the best possible hyperparameters next.\n",
    "\n",
    "**Why TextVectorization?** Apart from generating word embeddings, TextVectorization also helps with preprocessing:\n",
    "1. Standardize each sample (usually lowercasing + punctuation stripping)\n",
    "2. Split each sample into substrings (usually words)\n",
    "3. Recombine substrings into tokens (usually ngrams)\n",
    "4. Index tokens (associate a unique int value with each token)\n",
    "5. Transform each sample using this index, either into a vector of ints or a dense float vector.\n",
    "\n",
    "This makes it easy for me to transform my textual data into their numerical representations so that they can be fed into subsequent layers."
   ]
  },
  {
   "cell_type": "code",
   "execution_count": 6,
   "metadata": {},
   "outputs": [
    {
     "name": "stdout",
     "output_type": "stream",
     "text": [
      "Using TensorFlow backend\n"
     ]
    }
   ],
   "source": [
    "import numpy as np\n",
    "import keras_tuner as kt\n",
    "from tensorflow.keras import layers\n",
    "from sklearn.model_selection import KFold\n",
    "\n",
    "\n",
    "def model_eval(inputs, targets):\n",
    "    # Initialize the BayesianOptimization tuner\n",
    "    # for hyperparameter search based on Area Under Curve\n",
    "    tuner = kt.BayesianOptimization(create_hypermodel,\n",
    "                                    objective=kt.Objective(\n",
    "                                        'val_auc', direction='max'),\n",
    "                                    directory=\"archive\",\n",
    "                                    project_name=\"bayes\",\n",
    "                                    overwrite=True\n",
    "                                    )\n",
    "\n",
    "    # K-fold Cross Validation fold counter\n",
    "    fold_no = 1\n",
    "\n",
    "    # Define per-fold score containers\n",
    "    loss_per_fold = []\n",
    "    auc_per_fold = []\n",
    "\n",
    "    # Initialize K-fold cross-validation with 5 splits\n",
    "    kfolder = KFold(n_splits=5, shuffle=True, random_state=42)\n",
    "\n",
    "    # Go through each fold\n",
    "    for train, val in kfolder.split(inputs, targets):\n",
    "        # Learn the vocabulary of the training data\n",
    "        # using TextVectorization\n",
    "        vectorizer = layers.TextVectorization(\n",
    "            max_tokens=MAX_FEATURES,\n",
    "            output_mode='int',\n",
    "            output_sequence_length=SEQUENCE_LENGTH)\n",
    "        vectorizer.adapt(inputs[train])\n",
    "\n",
    "        # Vectorize the training data\n",
    "        X_train = vectorizer(inputs[train])\n",
    "        y_train = targets[train]\n",
    "\n",
    "        # Perform hyperparameter search with Keras Tuner\n",
    "        tuner.search(X_train, y_train,\n",
    "                     validation_split=0.2, verbose=False)\n",
    "\n",
    "        # Get the optimal hyperparameters\n",
    "        best_hps = tuner.get_best_hyperparameters()[0]\n",
    "\n",
    "        # Build the model with the optimal hyperparameters and train it\n",
    "        model = tuner.hypermodel.build(best_hps)\n",
    "        history = model.fit(\n",
    "            X_train, y_train, epochs=MAX_EPOCHS, validation_split=0.2, verbose=False)\n",
    "\n",
    "        # Find the best epoch based on validation AUC\n",
    "        val_acc_per_epoch = history.history['val_auc']\n",
    "        best_epoch = val_acc_per_epoch.index(max(val_acc_per_epoch)) + 1\n",
    "\n",
    "        # Retrain the model on the best hyperparameters and epoch\n",
    "        hypermodel = tuner.hypermodel.build(best_hps)\n",
    "        hypermodel.fit(X_train, y_train, epochs=best_epoch,\n",
    "                       validation_split=0.2, verbose=False)\n",
    "\n",
    "        # Vectorize the validation data\n",
    "        X_val = vectorizer(inputs[val])\n",
    "        y_val = targets[val]\n",
    "\n",
    "        # Evaluate the model on the validation data\n",
    "        scores = hypermodel.evaluate(\n",
    "            X_val, y_val, verbose=False)\n",
    "\n",
    "        loss_per_fold.append(scores[0])\n",
    "        auc_per_fold.append(scores[1])\n",
    "\n",
    "        # Increase fold number\n",
    "        fold_no = fold_no + 1\n",
    "\n",
    "    # Return the best hyperparameters and their\n",
    "    # corresponding AUC and loss metrics\n",
    "    best_hps = tuner.get_best_hyperparameters(num_trials=1)[0]\n",
    "    hp_data = {\n",
    "        \"loss\": round(np.mean(loss_per_fold), 3),\n",
    "        \"AUC\": round(np.mean(auc_per_fold), 3),\n",
    "        'output_dim': best_hps.values['output_dim'],\n",
    "        'num_layers': best_hps.values['num_layers'],\n",
    "    }\n",
    "\n",
    "    # Capture the best model's structure\n",
    "    total_params = best_hps.values['output_dim']\n",
    "\n",
    "    # Track the sequence of layer(s)\n",
    "    # and their no. of units\n",
    "    units = []\n",
    "\n",
    "    # Track the last layer's unit\n",
    "    last_units = 0\n",
    "\n",
    "    # Iterate over a maximum of three Dense\n",
    "    # layers (units_0, units_1, units_2)\n",
    "    for i in range(best_hps.values['num_layers']):\n",
    "        num_units = 0\n",
    "\n",
    "        try:\n",
    "            # If the Dense layer exists, track the\n",
    "            # no. of units in the layer\n",
    "            if best_hps.values[f\"units_{i}\"]:\n",
    "                num_units = best_hps.values[f\"units_{i}\"]\n",
    "\n",
    "                # Save the number of units per\n",
    "                # layer in the correct sequence\n",
    "                units.append(str(num_units))\n",
    "\n",
    "                total_params += num_units\n",
    "                last_units = num_units\n",
    "        except:\n",
    "            pass\n",
    "\n",
    "    # Store in hp_data for return\n",
    "    hp_data[\"units\"] = units\n",
    "\n",
    "    total_params += last_units + 1\n",
    "    hp_data[\"total_params\"] = total_params\n",
    "\n",
    "    return hp_data\n"
   ]
  },
  {
   "cell_type": "markdown",
   "metadata": {},
   "source": [
    "Since there is some degree of randomness to all Keras Tuners, I repeated the exploration 10 times and collected the results for further analysis and model selection."
   ]
  },
  {
   "cell_type": "code",
   "execution_count": 7,
   "metadata": {},
   "outputs": [],
   "source": [
    "def find_best_model(tries, X_train, y_train):\n",
    "    # Track metric & hyperparameter\n",
    "    # information about the neural networks\n",
    "    data = []\n",
    "\n",
    "    for _ in range(tries):\n",
    "        # Find and save the best neural network structure\n",
    "        data.append(model_eval(X_train, y_train))\n",
    "\n",
    "    # Print a table summarizing the neural networks' structures\n",
    "    print(\"Loss\\t\", \"AUC\\t\", \"Embedding Dim.\\t\",\n",
    "          \"No. of Layers\\t\", \"Total Params\\t\", \"Hidden Layers\\t\")\n",
    "\n",
    "    for hp_data in data:\n",
    "        print(f\"{hp_data['loss']}\\t\",\n",
    "              f\"{hp_data['AUC']}\\t\",\n",
    "              f\"{hp_data['output_dim']}\\t\\t\",\n",
    "              f\"{hp_data['num_layers']}\\t\\t\",\n",
    "              f\"{hp_data['total_params']}\\t\\t\",\n",
    "              f\"{' → '.join(hp_data['units'])}\\t\",\n",
    "              )\n"
   ]
  },
  {
   "cell_type": "code",
   "execution_count": 8,
   "metadata": {},
   "outputs": [
    {
     "name": "stdout",
     "output_type": "stream",
     "text": [
      "WARNING:tensorflow:5 out of the last 9 calls to <function Model.make_test_function.<locals>.test_function at 0x2904b4540> triggered tf.function retracing. Tracing is expensive and the excessive number of tracings could be due to (1) creating @tf.function repeatedly in a loop, (2) passing tensors with different shapes, (3) passing Python objects instead of tensors. For (1), please define your @tf.function outside of the loop. For (2), @tf.function has reduce_retracing=True option that can avoid unnecessary retracing. For (3), please refer to https://www.tensorflow.org/guide/function#controlling_retracing and https://www.tensorflow.org/api_docs/python/tf/function for  more details.\n",
      "WARNING:tensorflow:6 out of the last 11 calls to <function Model.make_test_function.<locals>.test_function at 0x2904b54e0> triggered tf.function retracing. Tracing is expensive and the excessive number of tracings could be due to (1) creating @tf.function repeatedly in a loop, (2) passing tensors with different shapes, (3) passing Python objects instead of tensors. For (1), please define your @tf.function outside of the loop. For (2), @tf.function has reduce_retracing=True option that can avoid unnecessary retracing. For (3), please refer to https://www.tensorflow.org/guide/function#controlling_retracing and https://www.tensorflow.org/api_docs/python/tf/function for  more details.\n",
      "Loss\t AUC\t Embedding Dim.\t No. of Layers\t Total Params\t Hidden Layers\t\n",
      "0.607\t 0.72\t 64\t\t 3\t\t 449\t\t 128 → 64 → 96\t\n",
      "0.654\t 0.726\t 64\t\t 3\t\t 289\t\t 32 → 32 → 80\t\n",
      "0.577\t 0.723\t 16\t\t 1\t\t 273\t\t 128\t\n",
      "0.589\t 0.654\t 32\t\t 2\t\t 145\t\t 80 → 16\t\n",
      "0.704\t 0.726\t 80\t\t 3\t\t 401\t\t 128 → 32 → 80\t\n",
      "0.573\t 0.679\t 80\t\t 1\t\t 177\t\t 48\t\n",
      "0.689\t 0.708\t 80\t\t 2\t\t 177\t\t 64 → 16\t\n",
      "0.743\t 0.651\t 80\t\t 3\t\t 241\t\t 112 → 16 → 16\t\n",
      "0.593\t 0.672\t 64\t\t 2\t\t 193\t\t 96 → 16\t\n",
      "0.583\t 0.713\t 80\t\t 1\t\t 337\t\t 128\t\n"
     ]
    }
   ],
   "source": [
    "# Try to find the best neural network structure, 10 times\n",
    "find_best_model(10, X_train.copy().to_numpy(), y_train.copy().to_numpy())\n"
   ]
  },
  {
   "cell_type": "markdown",
   "metadata": {},
   "source": [
    "# 7. Predicting Labels & Performance Evaluation\n",
    "\n",
    "From the table above, we were able to obtain the lowest loss and one of the best AUC scores in the second and third row. Both of them only used one hidden layer, but the number of units in this hidden layer differed, based the output dimension of the embedding layer.\n",
    "\n",
    "We will pick the model that is more resource-efficient—the model with the smaller total number of parameters. This is the one in the second row, with an output dimension of 32 for the Embedding layer, and 48 units for the sole hidden layer.\n",
    "\n",
    "Then, we will:\n",
    "1. Build a new neural network model with these optimal hyperparameters\n",
    "2. Create a new vectorizer and build a vocabulary from our training dataset\n",
    "3. Vectorize our training dataset with the new vectorizer, and feed it to our model for training\n",
    "4. Evaluate ROC-AUC and Accuracy scores using our test dataset"
   ]
  },
  {
   "cell_type": "code",
   "execution_count": 22,
   "metadata": {},
   "outputs": [
    {
     "name": "stdout",
     "output_type": "stream",
     "text": [
      "3/3 [==============================] - 0s 1ms/step\n",
      "ROC-AUC Score on Test Set: 0.8099838969404186\n",
      "Accuracy Score on Test Set: 0.7532467532467533\n"
     ]
    }
   ],
   "source": [
    "from sklearn.metrics import roc_auc_score, accuracy_score\n",
    "\n",
    "def create_model(output_dim, num_layers, units):\n",
    "    # Create a Sequential model for a neural network\n",
    "    best_model = Sequential()\n",
    "\n",
    "    # Add an Embedding layer with a dynamic output dimension based on the hyperparameter\n",
    "    best_model.add(layers.Embedding(MAX_FEATURES + 1,\n",
    "                                    output_dim, input_length=SEQUENCE_LENGTH))\n",
    "\n",
    "    # Add a Flatten layer to convert the embedded features into a 1D array\n",
    "    best_model.add(layers.Flatten())\n",
    "\n",
    "    # Add multiple dense layers with hyperparameter tuning\n",
    "    for i in range(num_layers):\n",
    "        best_model.add(\n",
    "            layers.Dense(\n",
    "                # Tune number of units separately.\n",
    "                units=units[i],\n",
    "                activation=\"relu\"\n",
    "            )\n",
    "        )\n",
    "\n",
    "    # Add a final Dense layer with a single unit and\n",
    "    # sigmoid activation for binary classification\n",
    "    # (personal/not personal)\n",
    "    best_model.add(layers.Dense(1, activation='sigmoid'))\n",
    "\n",
    "    # Compile the model with:\n",
    "    # - binary cross-entropy loss\n",
    "    # - SGD optimizer\n",
    "    # - accuracy metric\n",
    "    best_model.compile(loss=\"binary_crossentropy\",\n",
    "                       optimizer=optimizers.legacy.SGD(\n",
    "                           learning_rate=0.1),\n",
    "                       metrics=[metrics.AUC(name=\"auc\")])\n",
    "    \n",
    "    return best_model\n",
    "\n",
    "# Create a fresh vectorizer with\n",
    "# a vocabulary based on our training data\n",
    "vectorizer = layers.TextVectorization(\n",
    "    max_tokens=MAX_FEATURES,\n",
    "    output_mode='int',\n",
    "    output_sequence_length=SEQUENCE_LENGTH)\n",
    "vectorizer.adapt(X_train)\n",
    "\n",
    "# Vectorize the training data\n",
    "X_train_vectorized = vectorizer(X_train)\n",
    "\n",
    "# Re-create the model from the best hyperparameters\n",
    "OUTPUT_DIM = 32\n",
    "NUM_LAYERS = 1\n",
    "UNITS = [48]\n",
    "best_model = create_model(OUTPUT_DIM, NUM_LAYERS, UNITS)\n",
    "\n",
    "# Train the model\n",
    "best_model.fit(X_train_vectorized, y_train, epochs=MAX_EPOCHS, verbose=False)\n",
    "\n",
    "# Evaluate the best model on the test set\n",
    "y_pred = best_model.predict(vectorizer(X_test))\n",
    "nn_roc_auc = roc_auc_score(y_test, y_pred)\n",
    "\n",
    "converted_y_pred = list(map(lambda x: x > 0.5, y_pred))\n",
    "nn_accuracy = accuracy_score(y_test, converted_y_pred)\n",
    "\n",
    "# Report the ROC-AUC score on the test set\n",
    "print(\"ROC-AUC Score on Test Set:\", nn_roc_auc)\n",
    "\n",
    "# Report the accuracy on the test set\n",
    "print(\"Accuracy Score on Test Set:\", nn_accuracy)\n"
   ]
  },
  {
   "cell_type": "markdown",
   "metadata": {},
   "source": [
    "# 8. Result Visualization & Discussion\n",
    "From the print statements and Figure 3, we see that our model has a ROC-AUC score of around 0.8, reflecting an 80% probability that the model will rank a randomly chosen positive instance higher than a randomly chosen negative instance. This means that, 80% of the time, the y_pred for a randomly chosen personal post will be higher than the y_pred for a randomly chosen non-personal post—a relatively good performance at discriminating between the two classes.\n",
    "\n",
    "Meanwhile, our accuracy score of around 0.75 means that the model accurately classifies whether a post is personal or non-personal for 75% of the test dataset. The disparity between the two scores could be due to class imbalances, where one class significantly outnumbers the other, which is picked up by the accuracy metric thanks to its tendency to be biased toward the dominant class.\n",
    "\n",
    "Accounting for both metrics, it seems that our model has a relatively good performance—it should be able to classify a post as \"personal\" or \"non-personal\" most of the time."
   ]
  },
  {
   "cell_type": "code",
   "execution_count": 16,
   "metadata": {},
   "outputs": [
    {
     "data": {
      "image/png": "[encoded data removed]",
      "text/plain": [
       "<Figure size 640x480 with 1 Axes>"
      ]
     },
     "metadata": {},
     "output_type": "display_data"
    }
   ],
   "source": [
    "from sklearn.metrics import roc_curve\n",
    "\n",
    "# Obtain the ROC curve for plotting\n",
    "nn_curve = roc_curve(y_test, y_pred)\n",
    "\n",
    "# Plot the curve with #dataviz best practices\n",
    "plt.plot(nn_curve[0], nn_curve[1], label=\"Neural Network ROC-AUC: %.2f\" % nn_roc_auc)\n",
    "plt.title(\"Visualizing ROC-AUC of Neural Network\")\n",
    "plt.xlabel(\"False Positive Rate\")\n",
    "plt.ylabel(\"True Positive Rate\")\n",
    "plt.legend()\n",
    "plt.show()"
   ]
  },
  {
   "cell_type": "markdown",
   "metadata": {},
   "source": [
    "**Figure 3.** A line plot showing the ROC-AUC curve for our model. While not perfect, our curve is convex, meaning that it has more predictive power than a completely random model (which would have a ROC-AUC \"curve\" equivalent to a diagonal line).\n",
    "\n",
    "# 9. Executive Summary\n",
    "\n",
    "**Summary of Pipeline.** In this assignment, I tried to build a classifier that distinguishes between a post with a personal angle and a post without a personal angle.\n",
    "\n",
    "After cleaning the data, I made several choices to account for the non-linear complexities of our textual data data. First, I chose to represent our data with word embeddings instead of a frequency-based approach, as the former better accounts for the semantics of a word in its given context. Next, I decided on a neural network model instead of simpler models like logistic regression or Naive Bayes as the architecture of neural networks can the model non-linear relationships better.\n",
    "\n",
    "Then, using K-fold Cross Validation and Keras Tuner, I tried to find the most optimal hyperparameters for the network structure. A simple network with only one 48-unit hidden layer was one of the better-performing ones, so I selected it as my final model and ran ROC-AUC and accuracy metrics to test its performance.\n",
    "Based on the results above, I was able to train a neural network that classifies a post as personal or non-personal with a high degree of accuracy. The good ROC-AUC score also means that the model should be generalizable to unseen datasets of posts.\n",
    "\n",
    "**Areas for Improvement.**\n",
    "\n",
    "- A higher quality data sample could potentially improve the model. The sample size of 381 is small relative to most classifiers used in the industry. Additionally, since the posts were sampled from only 28 people, it is possible that the people are in similar niches, and the model might have picked up on niche-specific linguistic features in the text—not the linguistic features of a personal post.\n",
    "- Training other models, especially those with non-linear decision boundaries (like Support Vector Machines), would have provided a better basis of comparison about the superiority (or inferiority) of our model’s performance.\n",
    "- Consent from the post authors is being obtained as of writing, but it should be completed before the entire assignment was started.\n"
   ]
  },
  {
   "cell_type": "markdown",
   "metadata": {},
   "source": [
    "# 10. References\n",
    "- Team, K. (2023). Keras documentation: Classification metrics based on True/False positives & negatives. Keras.io. https://keras.io/api/metrics/classification_metrics/#auc-class\n",
    "- Team, K. (2023). Keras documentation: Embedding layer. Keras.io. https://keras.io/api/layers/core_layers/embedding/\n",
    "- Team, K. (2019). Keras documentation: Getting started with KerasTuner. Keras.io. https://keras.io/guides/keras_tuner/getting_started/#builtin-metric-as-the-ob jective\n",
    "- Team, K. (2023). Keras documentation: TextVectorization layer. Keras.io. https://keras.io/api/layers/preprocessing_layers/core_preprocessing_layers/text_vectorization/ ‌\n",
    "- Wadekar, S. (2021, January 10). Hyperparameter Tuning in Keras: TensorFlow 2: With Keras Tuner: RandomSearch, Hyperband, BayesianOptimization. Medium; The Startup. https://medium.com/swlh/hyperparameter-tuning-in-keras-tensorflow-2-with- keras-tuner-randomsearch-hyperband-3e212647778f\n",
    "- GitHub Link (including dataset): https://github.com/kyurikotpq/linkedin- ml/tree/main/classification"
   ]
  }
 ],
 "metadata": {
  "kernelspec": {
   "display_name": "base",
   "language": "python",
   "name": "python3"
  },
  "language_info": {
   "codemirror_mode": {
    "name": "ipython",
    "version": 3
   },
   "file_extension": ".py",
   "mimetype": "text/x-python",
   "name": "python",
   "nbconvert_exporter": "python",
   "pygments_lexer": "ipython3",
   "version": "3.11.5"
  },
  "orig_nbformat": 4
 },
 "nbformat": 4,
 "nbformat_minor": 2
}

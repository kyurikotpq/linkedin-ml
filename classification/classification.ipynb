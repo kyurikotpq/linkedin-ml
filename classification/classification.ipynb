{
 "cells": [
  {
   "cell_type": "markdown",
   "metadata": {},
   "source": [
    "# 1. Classifying LinkedIn Posts as Story-based or Not\n",
    "\n",
    "- What is included\n",
    "- how it was obtained\n",
    "- important details about how it was sampled\n"
   ]
  },
  {
   "cell_type": "markdown",
   "metadata": {},
   "source": [
    "# 2. Data Conversion"
   ]
  },
  {
   "cell_type": "code",
   "execution_count": 7,
   "metadata": {},
   "outputs": [
    {
     "data": {
      "text/html": [
       "<div>\n",
       "<style scoped>\n",
       "    .dataframe tbody tr th:only-of-type {\n",
       "        vertical-align: middle;\n",
       "    }\n",
       "\n",
       "    .dataframe tbody tr th {\n",
       "        vertical-align: top;\n",
       "    }\n",
       "\n",
       "    .dataframe thead th {\n",
       "        text-align: right;\n",
       "    }\n",
       "</style>\n",
       "<table border=\"1\" class=\"dataframe\">\n",
       "  <thead>\n",
       "    <tr style=\"text-align: right;\">\n",
       "      <th></th>\n",
       "      <th>content</th>\n",
       "      <th>engagement</th>\n",
       "      <th>comments</th>\n",
       "    </tr>\n",
       "  </thead>\n",
       "  <tbody>\n",
       "    <tr>\n",
       "      <th>13</th>\n",
       "      <td>3 Offline Marketing Lessons That Will Boost Yo...</td>\n",
       "      <td>0</td>\n",
       "      <td>0</td>\n",
       "    </tr>\n",
       "    <tr>\n",
       "      <th>38</th>\n",
       "      <td>🎙️ I'm excited to share that I've finally reco...</td>\n",
       "      <td>0</td>\n",
       "      <td>0</td>\n",
       "    </tr>\n",
       "    <tr>\n",
       "      <th>59</th>\n",
       "      <td>We would love to invite you and your friends t...</td>\n",
       "      <td>0</td>\n",
       "      <td>0</td>\n",
       "    </tr>\n",
       "    <tr>\n",
       "      <th>61</th>\n",
       "      <td>I've read a ton of books.\\n\\nCould I give you ...</td>\n",
       "      <td>0</td>\n",
       "      <td>0</td>\n",
       "    </tr>\n",
       "    <tr>\n",
       "      <th>98</th>\n",
       "      <td>[EDIT UPDATE 9/11] Okay, this is it. I need he...</td>\n",
       "      <td>0</td>\n",
       "      <td>0</td>\n",
       "    </tr>\n",
       "    <tr>\n",
       "      <th>122</th>\n",
       "      <td>I don't know about you, but I'm feeling that e...</td>\n",
       "      <td>0</td>\n",
       "      <td>0</td>\n",
       "    </tr>\n",
       "    <tr>\n",
       "      <th>123</th>\n",
       "      <td>How do you build long-term wealth?</td>\n",
       "      <td>0</td>\n",
       "      <td>0</td>\n",
       "    </tr>\n",
       "    <tr>\n",
       "      <th>180</th>\n",
       "      <td>And BairesDev became orange! 🧡\\n\\nThis week, o...</td>\n",
       "      <td>0</td>\n",
       "      <td>0</td>\n",
       "    </tr>\n",
       "    <tr>\n",
       "      <th>181</th>\n",
       "      <td>We like to sip coffee or tea from the warmth a...</td>\n",
       "      <td>0</td>\n",
       "      <td>0</td>\n",
       "    </tr>\n",
       "    <tr>\n",
       "      <th>189</th>\n",
       "      <td>Charging based on your output instead of an ho...</td>\n",
       "      <td>0</td>\n",
       "      <td>0</td>\n",
       "    </tr>\n",
       "    <tr>\n",
       "      <th>191</th>\n",
       "      <td>Brom is #hiring. Know anyone who might be inte...</td>\n",
       "      <td>0</td>\n",
       "      <td>0</td>\n",
       "    </tr>\n",
       "    <tr>\n",
       "      <th>194</th>\n",
       "      <td>Thanks for sharing this The Futur™ Chris Do! 🙌...</td>\n",
       "      <td>0</td>\n",
       "      <td>0</td>\n",
       "    </tr>\n",
       "    <tr>\n",
       "      <th>216</th>\n",
       "      <td>Could one of these opportunities be your next ...</td>\n",
       "      <td>0</td>\n",
       "      <td>0</td>\n",
       "    </tr>\n",
       "    <tr>\n",
       "      <th>217</th>\n",
       "      <td>We’ve all heard the quote that “Diamonds are c...</td>\n",
       "      <td>0</td>\n",
       "      <td>0</td>\n",
       "    </tr>\n",
       "    <tr>\n",
       "      <th>219</th>\n",
       "      <td>Do you find yourself avoiding tough decisions ...</td>\n",
       "      <td>0</td>\n",
       "      <td>0</td>\n",
       "    </tr>\n",
       "  </tbody>\n",
       "</table>\n",
       "</div>"
      ],
      "text/plain": [
       "                                               content  engagement  comments\n",
       "13   3 Offline Marketing Lessons That Will Boost Yo...           0         0\n",
       "38   🎙️ I'm excited to share that I've finally reco...           0         0\n",
       "59   We would love to invite you and your friends t...           0         0\n",
       "61   I've read a ton of books.\\n\\nCould I give you ...           0         0\n",
       "98   [EDIT UPDATE 9/11] Okay, this is it. I need he...           0         0\n",
       "122  I don't know about you, but I'm feeling that e...           0         0\n",
       "123                 How do you build long-term wealth?           0         0\n",
       "180  And BairesDev became orange! 🧡\\n\\nThis week, o...           0         0\n",
       "181  We like to sip coffee or tea from the warmth a...           0         0\n",
       "189  Charging based on your output instead of an ho...           0         0\n",
       "191  Brom is #hiring. Know anyone who might be inte...           0         0\n",
       "194  Thanks for sharing this The Futur™ Chris Do! 🙌...           0         0\n",
       "216  Could one of these opportunities be your next ...           0         0\n",
       "217  We’ve all heard the quote that “Diamonds are c...           0         0\n",
       "219  Do you find yourself avoiding tough decisions ...           0         0"
      ]
     },
     "execution_count": 7,
     "metadata": {},
     "output_type": "execute_result"
    }
   ],
   "source": [
    "import pandas as pd\n",
    "\n",
    "df = pd.read_csv(\"./posts.csv\")\n",
    "df[df[\"engagement\"] == 0]\n"
   ]
  },
  {
   "cell_type": "markdown",
   "metadata": {},
   "source": [
    "# 3. Data Cleaning, Pre-Processing, and Feature Engineering"
   ]
  },
  {
   "cell_type": "markdown",
   "metadata": {},
   "source": [
    "# 4. The Task\n",
    "- classification\n",
    "- Need to split into training and test data sets"
   ]
  },
  {
   "cell_type": "markdown",
   "metadata": {},
   "source": [
    "# 5. Model Selection"
   ]
  },
  {
   "cell_type": "markdown",
   "metadata": {},
   "source": [
    "# 6. Model Training"
   ]
  },
  {
   "cell_type": "markdown",
   "metadata": {},
   "source": [
    "Students will need to select a sample of the digital data they have accumulated in their life so far. This might include images, sound files, text, geospatial, or numerical data. This can include the video, text, and other data created by their participation in this and other Minerva classes. The first section**** of the notebook should explain the data: what is included, how it was obtained, and all important details about how it was sampled from the student's own digital archive.\n",
    "\n",
    "The second section**** of the notebook should contain well-commented code for converting this data to python readable format (and scikit-learn) and loading this data into an appropriate data structure (np.array, pandas dataframe, glob etc.).\n",
    "\n",
    "The third section of the notebook**** should include a markdown section explaining any necessary cleaning, pre-processing, and feature engineering the data requires, and a include a code block completing these steps. You may also wish to perform some basic exploratory data analysis at this point reporting and visualizing some samples and appropriate descriptive statistics.\n",
    "\n",
    "The fourth section**** should include a markdown section discussing the task (classification, regression, or clustering) that will be conducted on the data, along with well commented code block that splits data into training and test sets.\n",
    "\n",
    "The fifth section**** should discuss model**** selection in a markdown section and include model initialization and construction in a well-commented code block. This section should include a clear discussion of the model's mathematical underpinnings. You might include the training algorithm as pseudocode and/or an explanation of the loss function in markdown.\n",
    "\n",
    "The sixth section_**** _should train the model, including any necessary cross validation and hyperparameter tuning.\n",
    "\n",
    "The seventh section**** should contain code to generate predictions for out of sample data, and compute appropriate performance**** metrics.\n",
    "\n",
    "The eighth section_ _should visualize the results and discuss your conclusions.\n",
    "\n",
    "The ninth section should be an executive summary of the prior eight sections, clearly explaining your steps, diagramming your pipeline, visualizing any key results, and explaining any key insights or shortcomings of your approach. You may wish to include a discussion of how the model might be improved.\n",
    "The tenth section should contain references for documents, guides, or code repos you accessed for the project."
   ]
  },
  {
   "cell_type": "markdown",
   "metadata": {},
   "source": [
    "# 7. Prediction & Performance Evaluation"
   ]
  },
  {
   "cell_type": "code",
   "execution_count": null,
   "metadata": {},
   "outputs": [],
   "source": []
  },
  {
   "cell_type": "markdown",
   "metadata": {},
   "source": [
    "# 8. Result Visualization"
   ]
  },
  {
   "cell_type": "code",
   "execution_count": null,
   "metadata": {},
   "outputs": [],
   "source": []
  },
  {
   "cell_type": "markdown",
   "metadata": {},
   "source": [
    "# 9. Executive Summary"
   ]
  },
  {
   "cell_type": "markdown",
   "metadata": {},
   "source": [
    "# 10. References"
   ]
  }
 ],
 "metadata": {
  "kernelspec": {
   "display_name": "base",
   "language": "python",
   "name": "python3"
  },
  "language_info": {
   "codemirror_mode": {
    "name": "ipython",
    "version": 3
   },
   "file_extension": ".py",
   "mimetype": "text/x-python",
   "name": "python",
   "nbconvert_exporter": "python",
   "pygments_lexer": "ipython3",
   "version": "3.11.5"
  },
  "orig_nbformat": 4
 },
 "nbformat": 4,
 "nbformat_minor": 2
}
